{
 "cells": [
  {
   "cell_type": "markdown",
   "metadata": {
    "slideshow": {
     "slide_type": "slide"
    }
   },
   "source": [
    "## Collaborative Filtering using Item Response Theory\n",
    "\n",
    "- Div Vats\n",
    "- Data Scientist @ Sailthru\n",
    "<br><br>\n",
    "\n",
    "- Requirements:\n",
    "    - python 2.7 (e.g. https://www.continuum.io/downloads)\n",
    "    - sklearn, numpy, pandas (comes with anaconda installation)\n",
    "    - seaborn (pip install seaborn or conda install seaborn)\n",
    "    - rasch_model from github\n",
    "        - ```pip install git+git://github.com/vats-div/rasch_model ```\n",
    "    - Get sample data from http://www.ece.rice.edu/~vats/data/\n",
    "        - Get ```data0_train.csv.gz``` and ```data0_test.csv.gz```"
   ]
  },
  {
   "cell_type": "markdown",
   "metadata": {
    "slideshow": {
     "slide_type": "slide"
    }
   },
   "source": [
    "- Example: Students answering questions\n",
    "\n",
    "|| Q1 | Q2 | Q3 | Q4 | Q5 | Q6 | Q7|\n",
    "|-|\n",
    "| user_1  | | | | | | | | \n",
    "| user_2  | | | | | | | | \n",
    "| user_3  | | | | | | | | \n",
    "| user_4  | | | | | | | | \n",
    "| user_5  | | | | | | | | \n",
    "| user_6  | | | | | | | | \n",
    "| user_7  | | | | | | | | \n",
    "| user_8  | | | | | | | | \n",
    "| user_9  | | | | | | | | \n",
    "| user_10 | | | | | | | |\n"
   ]
  },
  {
   "cell_type": "markdown",
   "metadata": {
    "slideshow": {
     "slide_type": "slide"
    }
   },
   "source": [
    "- Example: Students answering questions\n",
    "\n",
    "|| Q1 | Q2 | Q3 | Q4 | Q5 | Q6 | Q7|\n",
    "|-|\n",
    "| user_1  | 0| 1| | 0| 0| 1| | \n",
    "| user_2  | 1| | 1| | 0| | 1| \n",
    "| user_3  | | | 0| | 1| | 1| \n",
    "| user_4  | 1| | 0| | 0| | 1| \n",
    "| user_5  | 0| | 1| | 1| | | \n",
    "| user_6  | | 1| 1| | 0| | | \n",
    "| user_7  | 0| 0| | 0| | 1| | \n",
    "| user_8  | 1| 0| 1| | | 0| | \n",
    "| user_9  | 1| 1| | 0| | | 0| \n",
    "| user_10 | 0| 0| | | | 1| 1|\n"
   ]
  },
  {
   "cell_type": "markdown",
   "metadata": {
    "slideshow": {
     "slide_type": "slide"
    }
   },
   "source": [
    "- Example: Can we estimate the missing answers?\n",
    "\n",
    "|| Q1 | Q2 | Q3 | Q4 | Q5 | Q6 | Q7|\n",
    "|-|\n",
    "| user_1  | 0| 1| ?| 0| 0| 1| ?| \n",
    "| user_2  | 1| ?| 1| ?| 0| ?| 1| \n",
    "| user_3  | ?| ?| 0| ?| 1| ?| 1| \n",
    "| user_4  | 1| ?| 0| ?| 0| ?| 1| \n",
    "| user_5  | 0| ?| 1| ?| 1| ?| ?| \n",
    "| user_6  | ?| 1| 1| ?| 0| ?| ?| \n",
    "| user_7  | 0| 0| ?| 0| ?| 1| ?| \n",
    "| user_8  | 1| 0| 1| ?| ?| 0| ?| \n",
    "| user_9  | 1| 1| ?| 0| ?| ?| 0| \n",
    "| user_10 | 0| 0| ?| ?| ?| 1| 1|\n"
   ]
  },
  {
   "cell_type": "markdown",
   "metadata": {
    "slideshow": {
     "slide_type": "slide"
    }
   },
   "source": [
    "- One Approach: Aggregrate statistics for each question\n",
    "    - For Q1: 4/8 correct => 0.5 probability of a user answering Q1 correctly\n",
    "\n",
    "|| Q1 |\n",
    "|-|\n",
    "| user_1  | 0| \n",
    "| user_2  | 1| \n",
    "| user_3  | ?| \n",
    "| user_4  | 1| \n",
    "| user_5  | 0| \n",
    "| user_6  | ?| \n",
    "| user_7  | 0| \n",
    "| user_8  | 1| \n",
    "| user_9  | 1| \n",
    "| user_10 | 0|\n"
   ]
  },
  {
   "cell_type": "markdown",
   "metadata": {
    "slideshow": {
     "slide_type": "slide"
    }
   },
   "source": [
    "- Another Approach: Aggregrate statistics for each user\n",
    "    - For user_1: 2/5 correct => 0.4 probability of user_1 answering a question correctly\n",
    "\n",
    "|| Q1 | Q2 | Q3 | Q4 | Q5 | Q6 | Q7|\n",
    "|-|\n",
    "| user_1  | 0| 1| ?| 0| 0| 1| ?|\n",
    "\n",
    "- Pros\n",
    "    - Extremely simple!\n",
    "- Cons\n",
    "    - Limited modeling capability\n",
    "    - Question based: The ability (smartness) of users may vary\n",
    "    - User based: The difficulty of questions may vary"
   ]
  },
  {
   "cell_type": "markdown",
   "metadata": {
    "collapsed": true,
    "slideshow": {
     "slide_type": "slide"
    }
   },
   "source": [
    "## Same problems in other domains\n",
    "\n",
    "<img src=\"http://gerardnico.com/wiki/_media/data_mining/rating_collaborative_filtering.png?w=200&tok=68baf2\" width=250 height=250/>"
   ]
  },
  {
   "cell_type": "markdown",
   "metadata": {
    "slideshow": {
     "slide_type": "slide"
    }
   },
   "source": [
    "## Item Response Theory\n",
    "\n",
    "- Simple framework for jointly using item and user based popularity\n",
    "- Subset of more general matrix factorization algorithms\n",
    "- Key idea:\n",
    "    $$\\displaystyle{P(Y_{i,j} = 1) = \\frac{1}{1 + \\exp(-(a_i + b_j))}}$$\n",
    "    - $Y_{i,j}$: correct/incorrect response from user $i$ to item $j$\n",
    "    - $a_i$: ability of user $i$ (how smart is user $i$)\n",
    "    - $b_j$: difficulty of item $j$"
   ]
  },
  {
   "cell_type": "code",
   "execution_count": 1,
   "metadata": {
    "collapsed": false,
    "slideshow": {
     "slide_type": "slide"
    }
   },
   "outputs": [
    {
     "data": {
      "image/png": "[encoded data removed]",
      "text/plain": [
       "<matplotlib.figure.Figure at 0x1048270d0>"
      ]
     },
     "metadata": {},
     "output_type": "display_data"
    }
   ],
   "source": [
    "%matplotlib inline\n",
    "from rasch_model import LearnRaschModel\n",
    "import pandas as pd\n",
    "import numpy as np\n",
    "from sklearn.metrics import roc_auc_score, roc_curve\n",
    "import seaborn as sns\n",
    "import time\n",
    "\n",
    "def logit(c):\n",
    "    return 1 / (1 + np.exp(-c))\n",
    "\n",
    "a = np.linspace(-5,5,100)\n",
    "sns.plt.plot(a, logit(a + 0))\n",
    "sns.plt.plot(a, logit(a + 1))\n",
    "sns.plt.plot(a, logit(a - 1))\n",
    "sns.plt.legend(('b = 0','b = 1','b = -1'));"
   ]
  },
  {
   "cell_type": "markdown",
   "metadata": {
    "collapsed": true,
    "slideshow": {
     "slide_type": "slide"
    }
   },
   "source": [
    "$$\\displaystyle{P(Y_{i,j} = 1) = \\frac{1}{1 + \\exp(-(a_i + b_j))}}$$\n",
    "\n",
    "### Question: How can I estimate $a_i$ and $b_j$ given $Y$?\n",
    "\n",
    "|| Q1 | Q2 | Q3 | Q4 | Q5 | Q6 | Q7|\n",
    "|-|\n",
    "| user_1  | 0| 1| | 0| 0| 1| | \n",
    "| user_2  | 1| | 1| | 0| | 1| \n",
    "| user_3  | | | 0| | 1| | 1| \n",
    "| user_4  | 1| | 0| | 0| | 1| \n",
    "| user_5  | 0| | 1| | 1| | | \n",
    "| user_6  | | 1| 1| | 0| | | \n",
    "| user_7  | 0| 0| | 0| | 1| | \n",
    "| user_8  | 1| 0| 1| | | 0| | \n",
    "| user_9  | 1| 1| | 0| | | 0| \n",
    "| user_10 | 0| 0| | | | 1| 1|"
   ]
  },
  {
   "cell_type": "markdown",
   "metadata": {
    "collapsed": true,
    "slideshow": {
     "slide_type": "slide"
    }
   },
   "source": [
    "$$\\displaystyle{P(Y_{i,j} = 1) = \\frac{1}{1 + \\exp(-(a_i + b_j))}}$$\n",
    "\n",
    "### Question: How can I estimate $a_i$ and $b_j$ given $Y$?\n",
    "\n",
    "| user_id | item_id | value |\n",
    "|-|\n",
    "| 1 | 1 | 0|\n",
    "| 1 | 2 | 1|\n",
    "| 1 | 4 | 0|\n",
    "| 1 | 5 | 0|\n",
    "| 1 | 6 | 0|\n",
    "| 2 | 1 | 1|\n",
    "| . | . | .|\n",
    "| . | . | .|\n",
    "| . | . | .|"
   ]
  },
  {
   "cell_type": "code",
   "execution_count": 2,
   "metadata": {
    "collapsed": false,
    "slideshow": {
     "slide_type": "slide"
    }
   },
   "outputs": [
    {
     "name": "stdout",
     "output_type": "stream",
     "text": [
      "       user_id  item_id rating\n",
      "20366      339     1240   True\n",
      "20577      343      144   True\n",
      "69699      846     1540  False\n",
      "35026      487      685  False\n",
      "32546      463       25  False\n"
     ]
    },
    {
     "data": {
      "image/png": "[encoded data removed]",
      "text/plain": [
       "<matplotlib.figure.Figure at 0x104837050>"
      ]
     },
     "metadata": {},
     "output_type": "display_data"
    }
   ],
   "source": [
    "# read data\n",
    "train = pd.read_csv(\"data0_train.csv.gz\")\n",
    "test = pd.read_csv(\"data0_test.csv.gz\")\n",
    "\n",
    "# binarize the response\n",
    "train['rating'] = train['rating'] > 3\n",
    "test['rating'] = test['rating'] > 3\n",
    "\n",
    "# copy data\n",
    "test_orig = test.copy()\n",
    "\n",
    "print train.sample(6).head()\n",
    "\n",
    "# distribution of response\n",
    "train['rating'].hist();"
   ]
  },
  {
   "cell_type": "code",
   "execution_count": 3,
   "metadata": {
    "collapsed": true
   },
   "outputs": [],
   "source": [
    "test = test_orig\n",
    "\n",
    "# Item Based Popularity\n",
    "t1 = time.time()\n",
    "item_pop = train[['item_id', 'rating']]\\\n",
    "            .groupby('item_id')\\\n",
    "            .mean()\\\n",
    "            .reset_index()\n",
    "item_pop.columns = ['item_id', 'rating_item']\n",
    "item_mean = np.mean(item_pop['rating_item'])\n",
    "test = test.merge(item_pop, how='left', on='item_id').fillna(item_mean)\n",
    "time_item = time.time() - t1"
   ]
  },
  {
   "cell_type": "code",
   "execution_count": 4,
   "metadata": {
    "collapsed": true
   },
   "outputs": [],
   "source": [
    "# User Based Popularity\n",
    "t1 = time.time()\n",
    "\n",
    "user_pop = train[['user_id', 'rating']]\\\n",
    "            .groupby('user_id')\\\n",
    "            .mean()\\\n",
    "            .reset_index()\n",
    "user_pop.columns = ['user_id', 'rating_user']\n",
    "user_mean = np.mean(user_pop['rating_user'])\n",
    "test = test.merge(user_pop, how='left', on='user_id').fillna(user_mean)\n",
    "time_user = time.time() - t1"
   ]
  },
  {
   "cell_type": "code",
   "execution_count": 5,
   "metadata": {
    "collapsed": false
   },
   "outputs": [
    {
     "data": {
      "image/png": "[encoded data removed]",
      "text/plain": [
       "<matplotlib.figure.Figure at 0x109478910>"
      ]
     },
     "metadata": {},
     "output_type": "display_data"
    }
   ],
   "source": [
    "# IRT Based\n",
    "t1 = time.time()\n",
    "lrm = LearnRaschModel(max_iter=10, gamma=1.0)\n",
    "lrm.fit(train, user_id='user_id', item_id='item_id', response='rating')\n",
    "test['rating_irt'] = lrm.predict(test, user_id='user_id', item_id='item_id')\n",
    "time_irt = time.time() - t1\n",
    "\n",
    "sns.distplot(lrm.get_item());\n",
    "sns.distplot(lrm.get_user());"
   ]
  },
  {
   "cell_type": "code",
   "execution_count": 6,
   "metadata": {
    "collapsed": false,
    "slideshow": {
     "slide_type": "slide"
    }
   },
   "outputs": [
    {
     "name": "stdout",
     "output_type": "stream",
     "text": [
      "Item Based: 0.721633494466 Time: 0.0180869102478\n",
      "User Based: 0.679446096729 Time: 0.0109870433807\n",
      "IRT Based: 0.77757235292 Time: 0.487231969833\n"
     ]
    }
   ],
   "source": [
    "def get_auc(inp):\n",
    "    return str(roc_auc_score(test['rating'], test[inp]))\n",
    "\n",
    "# Evaluate methods\n",
    "print 'Item Based: ' + get_auc('rating_item'), 'Time: ' + str(time_item)\n",
    "print 'User Based: ' + get_auc('rating_user'), 'Time: ' + str(time_user)\n",
    "print 'IRT Based: ' + get_auc('rating_irt'), 'Time: ' + str(time_irt)"
   ]
  },
  {
   "cell_type": "code",
   "execution_count": 7,
   "metadata": {
    "collapsed": false,
    "slideshow": {
     "slide_type": "slide"
    }
   },
   "outputs": [
    {
     "data": {
      "image/png": "[encoded data removed]",
      "text/plain": [
       "<matplotlib.figure.Figure at 0x109285d10>"
      ]
     },
     "metadata": {},
     "output_type": "display_data"
    }
   ],
   "source": [
    "# histogram of the range of values\n",
    "test[['rating_item', 'rating_user', 'rating_irt']].hist();"
   ]
  },
  {
   "cell_type": "markdown",
   "metadata": {
    "slideshow": {
     "slide_type": "slide"
    }
   },
   "source": [
    "$$\\displaystyle{P(Y_{i,j} = 1) = \\frac{1}{1 + \\exp(-(a_i + b_j))}}$$\n",
    "\n",
    "### Question: How can I estimate $a_i$ and $b_j$ given $Y$?\n",
    "\n",
    "| user_id | item_id | value |\n",
    "|-|\n",
    "| 1 | 1 | 0|\n",
    "| 1 | 2 | 1|\n",
    "| 1 | 4 | 0|\n",
    "| 1 | 5 | 0|\n",
    "| 1 | 6 | 0|\n",
    "| 2 | 1 | 1|\n",
    "| . | . | .|\n",
    "| . | . | .|\n",
    "| . | . | .|"
   ]
  },
  {
   "cell_type": "markdown",
   "metadata": {
    "slideshow": {
     "slide_type": "slide"
    }
   },
   "source": [
    "## Maximum Likelihood Estimation\n",
    "\n",
    "- Informally, given data, what is most likely value of the parameters $a$ and $b$\n",
    "- Example\n",
    "    - Toss a coin $100$ times, observe $45$ heads and $55$ tails\n",
    "    - Most likely, probability of heads is $0.45$\n",
    "\n",
    "\n",
    "- For IRT:\n",
    "    - Let $p_{i,j} = P(Y_{i,j} = y_{i,j})$\n",
    "    <br><br>\n",
    "    - $\\displaystyle{\\ell = \\prod p_{i,j}}$ \n",
    "    <br><br>\n",
    "    - $\\displaystyle{\\log \\ell = \\sum \\log p_{i,j}}$\n",
    "    <br><br>\n",
    "    - Goal: Find $a_i$ and $b_j$ to maximize $\\displaystyle{\\sum \\log p_{i,j}}$"
   ]
  },
  {
   "cell_type": "markdown",
   "metadata": {
    "slideshow": {
     "slide_type": "slide"
    }
   },
   "source": [
    "## IRT Parameter Estimation\n",
    "\n",
    "- $\\displaystyle{p_{i,j} = P(Y_{i,j} = y_{i,j}) = \\frac{\\exp(y_{i,j}(a_i + b_j))}{1 + \\exp(a_i + b_j)}}$\n",
    "<br><br>\n",
    "- $\\displaystyle{ \\log p_{i,j} = y_{i,j}(a_i + b_j) - \\log(1 + \\exp(a_i + b_j)) }$\n",
    "<br><br>\n",
    "- Recall, we want to find $a_i$ and $b_j$ that maximizes $\\displaystyle{\\sum \\log p_{i,j}}$\n",
    "<br><br>\n",
    "- Final goal:\n",
    "$$ \\max_{a_i, b_j} \\sum \\left[y_{i,j}(a_i + b_j) - \\log(1 + \\exp(a_i + b_j)) \\right] $$"
   ]
  },
  {
   "cell_type": "markdown",
   "metadata": {
    "slideshow": {
     "slide_type": "slide"
    }
   },
   "source": [
    "$$ \\max_{a_i, b_j} \\sum \\left[y_{i,j}(a_i + b_j) - \\log(1 + \\exp(a_i + b_j)) \\right] $$\n",
    "\n",
    "<br>\n",
    "\n",
    "| user_id | item_id | y | a | b |\n",
    "|-|\n",
    "| 1 | 1 | 0| a_1 | b_1|\n",
    "| 1 | 2 | 1| a_1 | b_2|\n",
    "| 1 | 4 | 0| a_1 | b_4|\n",
    "| 1 | 5 | 0| a_1 | b_5|\n",
    "| 1 | 6 | 0| a_1 | b_6|\n",
    "| 2 | 1 | 1| a_2 | b_1|\n",
    "| . | . | .| | |"
   ]
  },
  {
   "cell_type": "markdown",
   "metadata": {
    "slideshow": {
     "slide_type": "slide"
    }
   },
   "source": [
    "## Alternating Maximization\n",
    "<br>\n",
    "\n",
    "$$\\displaystyle{\\max_{a_i, b_j} \\sum {\\cal L}(a_i, b_j)}$$\n",
    "\n",
    "- Step 1: Randomly initialize all $a_i$\n",
    "<br><br>\n",
    "- Step 2: Solve $\\displaystyle{\\max_{b_j} \\sum {\\cal L}(a_i, b_j)}$ to get all the $b_j$\n",
    "<br><br>\n",
    "- Step 3: Solve $\\displaystyle{\\max_{a_j} \\sum {\\cal L}(a_i, b_j)}$ using $b_j$ from Step 2 to get a new $a_j$\n",
    "<br><br>\n",
    "- Repeat Steps 2 and 3 until convergence"
   ]
  },
  {
   "cell_type": "markdown",
   "metadata": {
    "slideshow": {
     "slide_type": "slide"
    }
   },
   "source": [
    "## Gradient Descent\n",
    "<br>\n",
    "\n",
    "$$ \\max_{a_i, b_j} \\sum \\left[y_{i,j}(a_i + b_j) - \\log(1 + \\exp(a_i + b_j)) \\right] $$\n",
    "\n",
    "- Let all $a_i = 0$\n",
    "<br><br>\n",
    "- $ \\max_{b_j} \\sum_{i,j} \\left[y_{i,j} b_j  - \\log(1 + \\exp(b_j)) \\right] $\n",
    "<br><br>\n",
    "- $g_j = \\sum_i \\left[ y_{i,j} - 1/(1+\\exp(-b_j)) \\right]$\n",
    "<br><br>\n",
    "- $b_j = b_j + \\gamma g_j$"
   ]
  },
  {
   "cell_type": "code",
   "execution_count": 8,
   "metadata": {
    "collapsed": false,
    "slideshow": {
     "slide_type": "slide"
    }
   },
   "outputs": [],
   "source": [
    "train_copy = train.copy()\n",
    "gamma = 0.001\n",
    "num_iter = 30\n",
    "num_items = max(train_copy['item_id'])\n",
    "b_est = np.random.randn(num_items)\n",
    "b_init = b_est\n",
    "\n",
    "def gradient(data):\n",
    "    \"\"\" return gradient \"\"\"\n",
    "    grad = train_copy.groupby('item_id')['final_sum'].sum()\n",
    "    g = np.zeros(num_items)\n",
    "    g[grad.index - 1] = np.array(grad)\n",
    "    return g\n",
    "\n",
    "for k in range(num_iter):\n",
    "    train_copy['b'] = b_est[train_copy['item_id'] - 1]\n",
    "    \n",
    "    # compute y_{ij} - 1 / (1 + exp(-b_j)) for each row\n",
    "    train_copy['logit'] = 1 / (1 + np.exp(train_copy['b']))\n",
    "    train_copy['final_sum'] = train_copy['logit'] + train_copy['rating']\n",
    "\n",
    "    # compute gradient for each item and update b\n",
    "    b_est = b_est + gamma * gradient(train_copy)"
   ]
  },
  {
   "cell_type": "code",
   "execution_count": 9,
   "metadata": {
    "collapsed": false
   },
   "outputs": [
    {
     "data": {
      "image/png": "[encoded data removed]",
      "text/plain": [
       "<matplotlib.figure.Figure at 0x109527f50>"
      ]
     },
     "metadata": {},
     "output_type": "display_data"
    }
   ],
   "source": [
    "sns.distplot(b_est);\n",
    "sns.distplot(b_init);"
   ]
  },
  {
   "cell_type": "markdown",
   "metadata": {
    "slideshow": {
     "slide_type": "slide"
    }
   },
   "source": [
    "## Computational Complexity\n",
    "\n",
    "- Iterative Algorithm: O(K)\n",
    "- Computing Gradient: O(N)\n",
    "\n",
    "\n",
    "- Simple approach:\n",
    "```\n",
    "pandas: grad = train_copy.groupby('item_id')['final_sum']\n",
    "                           .sum()\n",
    "```\n",
    "\n",
    "- Distributed approach:\n",
    "``` \n",
    "pyspark: grad = train_copy.groupby('item_id')\n",
    "                            .sum('final_sum')\n",
    "```\n",
    "\n",
    "- Approximation: Stochastic Gradient Descent (SGD)\n",
    "```\n",
    "pandas: grad = train_copy.sample(frac=0.1)\n",
    "                           .groupby('item_id')['final_sum']\n",
    "                           .sum()\n",
    "```\n",
    "```\n",
    "pyspark: grad = train_copy.sample(True, 0.1)\n",
    "                            .groupby('item_id')['final_sum']\n",
    "                            .sum()\n",
    "```\n",
    "\n",
    "- If you know how your data is partitioned, can sample more intelligently\n"
   ]
  },
  {
   "cell_type": "markdown",
   "metadata": {
    "slideshow": {
     "slide_type": "slide"
    }
   },
   "source": [
    "## Summary\n",
    "\n",
    "\n",
    "- Introduced IRT: Extremely simple variant of Matrix Factorization\n",
    "\n",
    "\n",
    "- Overview of how to train IRT models and possibly scale them\n",
    "<br><br>\n",
    "\n",
    "- Advanced Topics:\n",
    "\n",
    "    - Many more variants of IRT: see https://en.wikipedia.org/wiki/Item_response_theory\n",
    "    - Select an appropriate gamma: modify it in every iteration\n",
    "    - Add more factors, see talks by Spotify (e.g., http://www.slideshare.net/MrChrisJohnson/collaborative-filtering-with-spark)\n",
    "    - Implicit MF, see http://yifanhu.net/PUB/cf.pdf\n",
    "    - Use more item and user level data"
   ]
  }
 ],
 "metadata": {
  "celltoolbar": "Slideshow",
  "kernelspec": {
   "display_name": "Python 2",
   "language": "python",
   "name": "python2"
  },
  "language_info": {
   "codemirror_mode": {
    "name": "ipython",
    "version": 2
   },
   "file_extension": ".py",
   "mimetype": "text/x-python",
   "name": "python",
   "nbconvert_exporter": "python",
   "pygments_lexer": "ipython2",
   "version": "2.7.10"
  }
 },
 "nbformat": 4,
 "nbformat_minor": 0
}
