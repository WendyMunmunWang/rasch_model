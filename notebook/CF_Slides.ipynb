{
 "cells": [
  {
   "cell_type": "markdown",
   "metadata": {
    "slideshow": {
     "slide_type": "slide"
    }
   },
   "source": [
    "## Collaborative Filtering using Item Response Theory\n",
    "\n",
    "- Div Vats\n",
    "- Data Scientist @ Sailthru"
   ]
  },
  {
   "cell_type": "markdown",
   "metadata": {
    "slideshow": {
     "slide_type": "slide"
    }
   },
   "source": [
    "- Example: Students answering questions\n",
    "\n",
    "|| Q1 | Q2 | Q3 | Q4 | Q5 | Q6 | Q7|\n",
    "|-|\n",
    "| user_1  | | | | | | | | \n",
    "| user_2  | | | | | | | | \n",
    "| user_3  | | | | | | | | \n",
    "| user_4  | | | | | | | | \n",
    "| user_5  | | | | | | | | \n",
    "| user_6  | | | | | | | | \n",
    "| user_7  | | | | | | | | \n",
    "| user_8  | | | | | | | | \n",
    "| user_9  | | | | | | | | \n",
    "| user_10 | | | | | | | |\n"
   ]
  },
  {
   "cell_type": "markdown",
   "metadata": {
    "slideshow": {
     "slide_type": "slide"
    }
   },
   "source": [
    "- Example: Students answering questions\n",
    "\n",
    "|| Q1 | Q2 | Q3 | Q4 | Q5 | Q6 | Q7|\n",
    "|-|\n",
    "| user_1  | 0| 1| | 0| 0| 1| | \n",
    "| user_2  | 1| | 1| | 0| | 1| \n",
    "| user_3  | | | 0| | 1| | 1| \n",
    "| user_4  | 1| | 0| | 0| | 1| \n",
    "| user_5  | 0| | 1| | 1| | | \n",
    "| user_6  | | 1| 1| | 0| | | \n",
    "| user_7  | 0| 0| | 0| | 1| | \n",
    "| user_8  | 1| 0| 1| | | 0| | \n",
    "| user_9  | 1| 1| | 0| | | 0| \n",
    "| user_10 | 0| 0| | | | 1| 1|\n"
   ]
  },
  {
   "cell_type": "markdown",
   "metadata": {
    "slideshow": {
     "slide_type": "slide"
    }
   },
   "source": [
    "- Example: Can we estimate the missing answers?\n",
    "\n",
    "|| Q1 | Q2 | Q3 | Q4 | Q5 | Q6 | Q7|\n",
    "|-|\n",
    "| user_1  | 0| 1| ?| 0| 0| 1| ?| \n",
    "| user_2  | 1| ?| 1| ?| 0| ?| 1| \n",
    "| user_3  | ?| ?| 0| ?| 1| ?| 1| \n",
    "| user_4  | 1| ?| 0| ?| 0| ?| 1| \n",
    "| user_5  | 0| ?| 1| ?| 1| ?| ?| \n",
    "| user_6  | ?| 1| 1| ?| 0| ?| ?| \n",
    "| user_7  | 0| 0| ?| 0| ?| 1| ?| \n",
    "| user_8  | 1| 0| 1| ?| ?| 0| ?| \n",
    "| user_9  | 1| 1| ?| 0| ?| ?| 0| \n",
    "| user_10 | 0| 0| ?| ?| ?| 1| 1|\n"
   ]
  },
  {
   "cell_type": "markdown",
   "metadata": {
    "slideshow": {
     "slide_type": "slide"
    }
   },
   "source": [
    "- One Approach: Aggregrate statistics for each question\n",
    "    - For Q1: 4/8 correct => 0.5 probability of a user answering Q1 correctly\n",
    "\n",
    "|| Q1 |\n",
    "|-|\n",
    "| user_1  | 0| \n",
    "| user_2  | 1| \n",
    "| user_3  | ?| \n",
    "| user_4  | 1| \n",
    "| user_5  | 0| \n",
    "| user_6  | ?| \n",
    "| user_7  | 0| \n",
    "| user_8  | 1| \n",
    "| user_9  | 1| \n",
    "| user_10 | 0|\n"
   ]
  },
  {
   "cell_type": "markdown",
   "metadata": {
    "slideshow": {
     "slide_type": "slide"
    }
   },
   "source": [
    "- Another Approach: Aggregrate statistics for each user\n",
    "    - For user_1: 2/5 correct => 0.4 probability of user_1 answering a question correctly\n",
    "\n",
    "|| Q1 | Q2 | Q3 | Q4 | Q5 | Q6 | Q7|\n",
    "|-|\n",
    "| user_1  | 0| 1| ?| 0| 0| 1| ?|\n",
    "\n",
    "- Pros\n",
    "    - Extremely simple!\n",
    "- Cons\n",
    "    - Limited modeling capability\n",
    "    - Question based: The ability (smartness) of users may vary\n",
    "    - User based: The difficulty of questions may vary"
   ]
  },
  {
   "cell_type": "markdown",
   "metadata": {
    "collapsed": true,
    "slideshow": {
     "slide_type": "slide"
    }
   },
   "source": [
    "## Same problems in other domains\n",
    "\n",
    "<img src=\"http://gerardnico.com/wiki/_media/data_mining/rating_collaborative_filtering.png?w=200&tok=68baf2\" width=250 height=250/>"
   ]
  },
  {
   "cell_type": "markdown",
   "metadata": {
    "slideshow": {
     "slide_type": "slide"
    }
   },
   "source": [
    "## Item Response Theory\n",
    "\n",
    "- Simple framework for jointly using item and user based popularity\n",
    "- Subset of more general matrix factorization algorithms\n",
    "- Key idea:\n",
    "    $$\\displaystyle{P(Y_{i,j} = 1) = \\frac{1}{1 + \\exp(-(a_i + b_j))}}$$\n",
    "    - $Y_{i,j}$: correct/incorrect response from user $i$ to item $j$\n",
    "    - $a_i$: ability of user $i$ (how smart is user $i$)\n",
    "    - $b_j$: difficulty of item $j$"
   ]
  },
  {
   "cell_type": "code",
   "execution_count": 22,
   "metadata": {
    "collapsed": false,
    "slideshow": {
     "slide_type": "slide"
    }
   },
   "outputs": [
    {
     "data": {
      "text/plain": [
       "<matplotlib.legend.Legend at 0x1074af990>"
      ]
     },
     "execution_count": 22,
     "metadata": {},
     "output_type": "execute_result"
    },
    {
     "data": {
      "image/png": "[encoded data removed]",
      "text/plain": [
       "<matplotlib.figure.Figure at 0x106bcdd90>"
      ]
     },
     "metadata": {},
     "output_type": "display_data"
    }
   ],
   "source": [
    "%matplotlib inline\n",
    "import numpy as np\n",
    "import matplotlib.pyplot as plt\n",
    "\n",
    "def logit(c):\n",
    "    return 1 / (1 + np.exp(-c))\n",
    "\n",
    "a = np.linspace(-5,5,100)\n",
    "plt.plot(a, logit(a + 0))\n",
    "plt.plot(a, logit(a + 1))\n",
    "plt.plot(a, logit(a - 1))\n",
    "plt.grid()\n",
    "plt.legend(('b = 0','b = 1','b = -1'))"
   ]
  },
  {
   "cell_type": "markdown",
   "metadata": {
    "collapsed": true,
    "slideshow": {
     "slide_type": "slide"
    }
   },
   "source": [
    "$$\\displaystyle{P(Y_{i,j} = 1) = \\frac{1}{1 + \\exp(-(a_i + b_j))}}$$\n",
    "\n",
    "### Question: How can I estimate $a_i$ and $b_j$ given $Y$?\n",
    "\n",
    "|| Q1 | Q2 | Q3 | Q4 | Q5 | Q6 | Q7|\n",
    "|-|\n",
    "| user_1  | 0| 1| | 0| 0| 1| | \n",
    "| user_2  | 1| | 1| | 0| | 1| \n",
    "| user_3  | | | 0| | 1| | 1| \n",
    "| user_4  | 1| | 0| | 0| | 1| \n",
    "| user_5  | 0| | 1| | 1| | | \n",
    "| user_6  | | 1| 1| | 0| | | \n",
    "| user_7  | 0| 0| | 0| | 1| | \n",
    "| user_8  | 1| 0| 1| | | 0| | \n",
    "| user_9  | 1| 1| | 0| | | 0| \n",
    "| user_10 | 0| 0| | | | 1| 1|"
   ]
  },
  {
   "cell_type": "code",
   "execution_count": null,
   "metadata": {
    "collapsed": true
   },
   "outputs": [],
   "source": []
  }
 ],
 "metadata": {
  "celltoolbar": "Slideshow",
  "kernelspec": {
   "display_name": "Python 2",
   "language": "python",
   "name": "python2"
  },
  "language_info": {
   "codemirror_mode": {
    "name": "ipython",
    "version": 2
   },
   "file_extension": ".py",
   "mimetype": "text/x-python",
   "name": "python",
   "nbconvert_exporter": "python",
   "pygments_lexer": "ipython2",
   "version": "2.7.10"
  }
 },
 "nbformat": 4,
 "nbformat_minor": 0
}
